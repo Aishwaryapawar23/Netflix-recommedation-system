{
 "cells": [
  {
   "cell_type": "markdown",
   "id": "70d9ae98",
   "metadata": {},
   "source": [
    "# <font color ='Firebrick'><center> Netflix Recommendation system </center>"
   ]
  },
  {
   "cell_type": "markdown",
   "id": "f42f32ac",
   "metadata": {},
   "source": [
    "__Netflix is a subscription-based streaming platform that allows users to watch movies and TV shows without advertisements. One of the reasons behind the popularity of Netflix is its recommendation system. Its recommendation system recommends movies and TV shows based on the user’s interestpIn this project, the main objective is to build a recommendation system.__\n",
    "\n"
   ]
  },
  {
   "cell_type": "markdown",
   "id": "c4203225",
   "metadata": {},
   "source": [
    "# <font color='dimgray'> <center> I.Read & Understand Dataset"
   ]
  },
  {
   "cell_type": "code",
   "execution_count": 1,
   "id": "4daaf725",
   "metadata": {},
   "outputs": [],
   "source": [
    "#importing dependencies\n",
    "\n",
    "import pandas as pd #for dataframe operations\n",
    "import numpy as np #for numerical operations\n",
    "\n",
    "#for graphs\n",
    "import matplotlib.pyplot as plt \n",
    "import seaborn as sns \n",
    "sns.set(style= \"darkgrid\")\n",
    "\n",
    "#to handle the warnings\n",
    "from warnings import filterwarnings\n",
    "filterwarnings('ignore')\n"
   ]
  },
  {
   "cell_type": "code",
   "execution_count": 2,
   "id": "da886c70",
   "metadata": {},
   "outputs": [],
   "source": [
    "# Load dataset\n",
    "\n",
    "df = pd.read_csv(\"netflix_titles.csv\")"
   ]
  },
  {
   "cell_type": "code",
   "execution_count": 3,
   "id": "8a2cf20e",
   "metadata": {},
   "outputs": [
    {
     "data": {
      "text/html": [
       "<div>\n",
       "<style scoped>\n",
       "    .dataframe tbody tr th:only-of-type {\n",
       "        vertical-align: middle;\n",
       "    }\n",
       "\n",
       "    .dataframe tbody tr th {\n",
       "        vertical-align: top;\n",
       "    }\n",
       "\n",
       "    .dataframe thead th {\n",
       "        text-align: right;\n",
       "    }\n",
       "</style>\n",
       "<table border=\"1\" class=\"dataframe\">\n",
       "  <thead>\n",
       "    <tr style=\"text-align: right;\">\n",
       "      <th></th>\n",
       "      <th>show_id</th>\n",
       "      <th>type</th>\n",
       "      <th>title</th>\n",
       "      <th>director</th>\n",
       "      <th>cast</th>\n",
       "      <th>country</th>\n",
       "      <th>date_added</th>\n",
       "      <th>release_year</th>\n",
       "      <th>rating</th>\n",
       "      <th>duration</th>\n",
       "      <th>listed_in</th>\n",
       "      <th>description</th>\n",
       "    </tr>\n",
       "  </thead>\n",
       "  <tbody>\n",
       "    <tr>\n",
       "      <th>0</th>\n",
       "      <td>81145628</td>\n",
       "      <td>Movie</td>\n",
       "      <td>Norm of the North: King Sized Adventure</td>\n",
       "      <td>Richard Finn, Tim Maltby</td>\n",
       "      <td>Alan Marriott, Andrew Toth, Brian Dobson, Cole...</td>\n",
       "      <td>United States, India, South Korea, China</td>\n",
       "      <td>September 9, 2019</td>\n",
       "      <td>2019</td>\n",
       "      <td>TV-PG</td>\n",
       "      <td>90 min</td>\n",
       "      <td>Children &amp; Family Movies, Comedies</td>\n",
       "      <td>Before planning an awesome wedding for his gra...</td>\n",
       "    </tr>\n",
       "    <tr>\n",
       "      <th>1</th>\n",
       "      <td>80117401</td>\n",
       "      <td>Movie</td>\n",
       "      <td>Jandino: Whatever it Takes</td>\n",
       "      <td>NaN</td>\n",
       "      <td>Jandino Asporaat</td>\n",
       "      <td>United Kingdom</td>\n",
       "      <td>September 9, 2016</td>\n",
       "      <td>2016</td>\n",
       "      <td>TV-MA</td>\n",
       "      <td>94 min</td>\n",
       "      <td>Stand-Up Comedy</td>\n",
       "      <td>Jandino Asporaat riffs on the challenges of ra...</td>\n",
       "    </tr>\n",
       "    <tr>\n",
       "      <th>2</th>\n",
       "      <td>70234439</td>\n",
       "      <td>TV Show</td>\n",
       "      <td>Transformers Prime</td>\n",
       "      <td>NaN</td>\n",
       "      <td>Peter Cullen, Sumalee Montano, Frank Welker, J...</td>\n",
       "      <td>United States</td>\n",
       "      <td>September 8, 2018</td>\n",
       "      <td>2013</td>\n",
       "      <td>TV-Y7-FV</td>\n",
       "      <td>1 Season</td>\n",
       "      <td>Kids' TV</td>\n",
       "      <td>With the help of three human allies, the Autob...</td>\n",
       "    </tr>\n",
       "  </tbody>\n",
       "</table>\n",
       "</div>"
      ],
      "text/plain": [
       "    show_id     type                                    title  \\\n",
       "0  81145628    Movie  Norm of the North: King Sized Adventure   \n",
       "1  80117401    Movie               Jandino: Whatever it Takes   \n",
       "2  70234439  TV Show                       Transformers Prime   \n",
       "\n",
       "                   director  \\\n",
       "0  Richard Finn, Tim Maltby   \n",
       "1                       NaN   \n",
       "2                       NaN   \n",
       "\n",
       "                                                cast  \\\n",
       "0  Alan Marriott, Andrew Toth, Brian Dobson, Cole...   \n",
       "1                                   Jandino Asporaat   \n",
       "2  Peter Cullen, Sumalee Montano, Frank Welker, J...   \n",
       "\n",
       "                                    country         date_added  release_year  \\\n",
       "0  United States, India, South Korea, China  September 9, 2019          2019   \n",
       "1                            United Kingdom  September 9, 2016          2016   \n",
       "2                             United States  September 8, 2018          2013   \n",
       "\n",
       "     rating  duration                           listed_in  \\\n",
       "0     TV-PG    90 min  Children & Family Movies, Comedies   \n",
       "1     TV-MA    94 min                     Stand-Up Comedy   \n",
       "2  TV-Y7-FV  1 Season                            Kids' TV   \n",
       "\n",
       "                                         description  \n",
       "0  Before planning an awesome wedding for his gra...  \n",
       "1  Jandino Asporaat riffs on the challenges of ra...  \n",
       "2  With the help of three human allies, the Autob...  "
      ]
     },
     "execution_count": 3,
     "metadata": {},
     "output_type": "execute_result"
    }
   ],
   "source": [
    "df.head(3)   #top 3 records"
   ]
  },
  {
   "cell_type": "code",
   "execution_count": 4,
   "id": "7a4972fc",
   "metadata": {},
   "outputs": [
    {
     "data": {
      "text/html": [
       "<div>\n",
       "<style scoped>\n",
       "    .dataframe tbody tr th:only-of-type {\n",
       "        vertical-align: middle;\n",
       "    }\n",
       "\n",
       "    .dataframe tbody tr th {\n",
       "        vertical-align: top;\n",
       "    }\n",
       "\n",
       "    .dataframe thead th {\n",
       "        text-align: right;\n",
       "    }\n",
       "</style>\n",
       "<table border=\"1\" class=\"dataframe\">\n",
       "  <thead>\n",
       "    <tr style=\"text-align: right;\">\n",
       "      <th></th>\n",
       "      <th>show_id</th>\n",
       "      <th>type</th>\n",
       "      <th>title</th>\n",
       "      <th>director</th>\n",
       "      <th>cast</th>\n",
       "      <th>country</th>\n",
       "      <th>date_added</th>\n",
       "      <th>release_year</th>\n",
       "      <th>rating</th>\n",
       "      <th>duration</th>\n",
       "      <th>listed_in</th>\n",
       "      <th>description</th>\n",
       "    </tr>\n",
       "  </thead>\n",
       "  <tbody>\n",
       "    <tr>\n",
       "      <th>6231</th>\n",
       "      <td>80116008</td>\n",
       "      <td>Movie</td>\n",
       "      <td>Little Baby Bum: Nursery Rhyme Friends</td>\n",
       "      <td>NaN</td>\n",
       "      <td>NaN</td>\n",
       "      <td>NaN</td>\n",
       "      <td>NaN</td>\n",
       "      <td>2016</td>\n",
       "      <td>NaN</td>\n",
       "      <td>60 min</td>\n",
       "      <td>Movies</td>\n",
       "      <td>Nursery rhymes and original music for children...</td>\n",
       "    </tr>\n",
       "    <tr>\n",
       "      <th>6232</th>\n",
       "      <td>70281022</td>\n",
       "      <td>TV Show</td>\n",
       "      <td>A Young Doctor's Notebook and Other Stories</td>\n",
       "      <td>NaN</td>\n",
       "      <td>Daniel Radcliffe, Jon Hamm, Adam Godley, Chris...</td>\n",
       "      <td>United Kingdom</td>\n",
       "      <td>NaN</td>\n",
       "      <td>2013</td>\n",
       "      <td>TV-MA</td>\n",
       "      <td>2 Seasons</td>\n",
       "      <td>British TV Shows, TV Comedies, TV Dramas</td>\n",
       "      <td>Set during the Russian Revolution, this comic ...</td>\n",
       "    </tr>\n",
       "    <tr>\n",
       "      <th>6233</th>\n",
       "      <td>70153404</td>\n",
       "      <td>TV Show</td>\n",
       "      <td>Friends</td>\n",
       "      <td>NaN</td>\n",
       "      <td>Jennifer Aniston, Courteney Cox, Lisa Kudrow, ...</td>\n",
       "      <td>United States</td>\n",
       "      <td>NaN</td>\n",
       "      <td>2003</td>\n",
       "      <td>TV-14</td>\n",
       "      <td>10 Seasons</td>\n",
       "      <td>Classic &amp; Cult TV, TV Comedies</td>\n",
       "      <td>This hit sitcom follows the merry misadventure...</td>\n",
       "    </tr>\n",
       "  </tbody>\n",
       "</table>\n",
       "</div>"
      ],
      "text/plain": [
       "       show_id     type                                        title director  \\\n",
       "6231  80116008    Movie       Little Baby Bum: Nursery Rhyme Friends      NaN   \n",
       "6232  70281022  TV Show  A Young Doctor's Notebook and Other Stories      NaN   \n",
       "6233  70153404  TV Show                                      Friends      NaN   \n",
       "\n",
       "                                                   cast         country  \\\n",
       "6231                                                NaN             NaN   \n",
       "6232  Daniel Radcliffe, Jon Hamm, Adam Godley, Chris...  United Kingdom   \n",
       "6233  Jennifer Aniston, Courteney Cox, Lisa Kudrow, ...   United States   \n",
       "\n",
       "     date_added  release_year rating    duration  \\\n",
       "6231        NaN          2016    NaN      60 min   \n",
       "6232        NaN          2013  TV-MA   2 Seasons   \n",
       "6233        NaN          2003  TV-14  10 Seasons   \n",
       "\n",
       "                                     listed_in  \\\n",
       "6231                                    Movies   \n",
       "6232  British TV Shows, TV Comedies, TV Dramas   \n",
       "6233            Classic & Cult TV, TV Comedies   \n",
       "\n",
       "                                            description  \n",
       "6231  Nursery rhymes and original music for children...  \n",
       "6232  Set during the Russian Revolution, this comic ...  \n",
       "6233  This hit sitcom follows the merry misadventure...  "
      ]
     },
     "execution_count": 4,
     "metadata": {},
     "output_type": "execute_result"
    }
   ],
   "source": [
    "df.tail(3)   #bottom 3 records"
   ]
  },
  {
   "cell_type": "code",
   "execution_count": 5,
   "id": "4db0c4b2",
   "metadata": {},
   "outputs": [],
   "source": [
    "def missing_values_analysis(df):\n",
    "    na_columns = [col for col in df.columns if df[col].isnull().sum() > 0]\n",
    "    n_miss =df[na_columns].isnull().sum().sort_values (ascending=True)\n",
    "    ratio = (df[na_columns].isnull().sum() / df.shape[0] * 100).sort_values (ascending=True)\n",
    "    missing_df = pd.concat([n_miss, np.round(ratio, 2)], axis =1, keys=['Missing Values', 'Ratio']) \n",
    "    missing_df = pd.DataFrame(missing_df)\n",
    "    return missing_df\n",
    "\n",
    "def overview(df, head=5, tail= 5):\n",
    "    print('\\033[1;36mINITIAL DATASET OVERVIEW\\033[0m')\n",
    "    print(\"\\033[1;3mSHAPE\\033[0m\".center(82,'-'))\n",
    "    print('\\033[1;3mRows:\\033[0m {}'.format(df.shape[0]))\n",
    "    print('\\033[1;3mcolumns:\\033[0m {}'.format(df.shape[1]))\n",
    "    print(\"\\033[1;3mTYPES\\033[0m\".center(82,'-'))\n",
    "    print(df.dtypes)\n",
    "    print(\"\\033[1;3mMissing Values\\033[0m\".center(82,'-'))\n",
    "    print(missing_values_analysis (df))\n",
    "    print(\"\\033[1;3mUnique Values\\033[0m\".center(82,'-'))\n",
    "    print( df.nunique())"
   ]
  },
  {
   "cell_type": "code",
   "execution_count": 6,
   "id": "f6a92317",
   "metadata": {},
   "outputs": [
    {
     "name": "stdout",
     "output_type": "stream",
     "text": [
      "\u001b[1;36mINITIAL DATASET OVERVIEW\u001b[0m\n",
      "---------------------------------\u001b[1;3mSHAPE\u001b[0m----------------------------------\n",
      "\u001b[1;3mRows:\u001b[0m 6234\n",
      "\u001b[1;3mcolumns:\u001b[0m 12\n",
      "---------------------------------\u001b[1;3mTYPES\u001b[0m----------------------------------\n",
      "show_id          int64\n",
      "type            object\n",
      "title           object\n",
      "director        object\n",
      "cast            object\n",
      "country         object\n",
      "date_added      object\n",
      "release_year     int64\n",
      "rating          object\n",
      "duration        object\n",
      "listed_in       object\n",
      "description     object\n",
      "dtype: object\n",
      "-----------------------------\u001b[1;3mMissing Values\u001b[0m-----------------------------\n",
      "            Missing Values  Ratio\n",
      "rating                  10   0.16\n",
      "date_added              11   0.18\n",
      "country                476   7.64\n",
      "cast                   570   9.14\n",
      "director              1969  31.58\n",
      "-----------------------------\u001b[1;3mUnique Values\u001b[0m------------------------------\n",
      "show_id         6234\n",
      "type               2\n",
      "title           6172\n",
      "director        3301\n",
      "cast            5469\n",
      "country          554\n",
      "date_added      1524\n",
      "release_year      72\n",
      "rating            14\n",
      "duration         201\n",
      "listed_in        461\n",
      "description     6226\n",
      "dtype: int64\n"
     ]
    }
   ],
   "source": [
    "overview(df)"
   ]
  },
  {
   "cell_type": "code",
   "execution_count": 8,
   "id": "d3a1fc5d",
   "metadata": {},
   "outputs": [
    {
     "name": "stdout",
     "output_type": "stream",
     "text": [
      "\u001b[1;3m type \u001b[0m\n",
      "['Movie' 'TV Show']\n",
      "----------------------------------------------------------------------------------\n",
      "\u001b[1;3m rating \u001b[0m\n",
      "['TV-PG' 'TV-MA' 'TV-Y7-FV' 'TV-Y7' 'TV-14' 'R' 'TV-Y' 'NR' 'PG-13' 'TV-G'\n",
      " 'PG' 'G' nan 'UR' 'NC-17']\n",
      "----------------------------------------------------------------------------------\n"
     ]
    }
   ],
   "source": [
    "col = ['type','rating']\n",
    "\n",
    "for c in col:\n",
    "    print('\\033[1;3m',c,'\\033[0m')\n",
    "    print(df[c].unique())\n",
    "    print(\"\".center(82,'-' ))"
   ]
  },
  {
   "cell_type": "markdown",
   "id": "bf042fb0",
   "metadata": {},
   "source": [
    "**The dataset contains the data of both Tv shows as well as movies.**"
   ]
  },
  {
   "cell_type": "markdown",
   "id": "2264352d",
   "metadata": {},
   "source": [
    "# <font color='grey'><center> II. DATA PREPROCESSING"
   ]
  },
  {
   "cell_type": "code",
   "execution_count": 9,
   "id": "5d2a73e2",
   "metadata": {},
   "outputs": [
    {
     "data": {
      "text/plain": [
       "Index(['show_id', 'type', 'title', 'director', 'cast', 'country', 'date_added',\n",
       "       'release_year', 'rating', 'duration', 'listed_in', 'description'],\n",
       "      dtype='object')"
      ]
     },
     "execution_count": 9,
     "metadata": {},
     "output_type": "execute_result"
    }
   ],
   "source": [
    "df.columns"
   ]
  },
  {
   "cell_type": "markdown",
   "id": "7f372a3f",
   "metadata": {},
   "source": [
    "__Let’s select the columns that we can use to build a Netflix recommendation system:__</div>"
   ]
  },
  {
   "cell_type": "markdown",
   "id": "2442a8e4",
   "metadata": {},
   "source": [
    "## Feature selection"
   ]
  },
  {
   "cell_type": "code",
   "execution_count": 22,
   "id": "6cc2e6c5",
   "metadata": {},
   "outputs": [
    {
     "data": {
      "text/html": [
       "<div>\n",
       "<style scoped>\n",
       "    .dataframe tbody tr th:only-of-type {\n",
       "        vertical-align: middle;\n",
       "    }\n",
       "\n",
       "    .dataframe tbody tr th {\n",
       "        vertical-align: top;\n",
       "    }\n",
       "\n",
       "    .dataframe thead th {\n",
       "        text-align: right;\n",
       "    }\n",
       "</style>\n",
       "<table border=\"1\" class=\"dataframe\">\n",
       "  <thead>\n",
       "    <tr style=\"text-align: right;\">\n",
       "      <th></th>\n",
       "      <th>title</th>\n",
       "      <th>description</th>\n",
       "      <th>type</th>\n",
       "      <th>listed_in</th>\n",
       "    </tr>\n",
       "  </thead>\n",
       "  <tbody>\n",
       "    <tr>\n",
       "      <th>0</th>\n",
       "      <td>Norm of the North: King Sized Adventure</td>\n",
       "      <td>Before planning an awesome wedding for his gra...</td>\n",
       "      <td>Movie</td>\n",
       "      <td>Children &amp; Family Movies, Comedies</td>\n",
       "    </tr>\n",
       "    <tr>\n",
       "      <th>1</th>\n",
       "      <td>Jandino: Whatever it Takes</td>\n",
       "      <td>Jandino Asporaat riffs on the challenges of ra...</td>\n",
       "      <td>Movie</td>\n",
       "      <td>Stand-Up Comedy</td>\n",
       "    </tr>\n",
       "    <tr>\n",
       "      <th>2</th>\n",
       "      <td>Transformers Prime</td>\n",
       "      <td>With the help of three human allies, the Autob...</td>\n",
       "      <td>TV Show</td>\n",
       "      <td>Kids' TV</td>\n",
       "    </tr>\n",
       "    <tr>\n",
       "      <th>3</th>\n",
       "      <td>Transformers: Robots in Disguise</td>\n",
       "      <td>When a prison ship crash unleashes hundreds of...</td>\n",
       "      <td>TV Show</td>\n",
       "      <td>Kids' TV</td>\n",
       "    </tr>\n",
       "    <tr>\n",
       "      <th>4</th>\n",
       "      <td>#realityhigh</td>\n",
       "      <td>When nerdy high schooler Dani finally attracts...</td>\n",
       "      <td>Movie</td>\n",
       "      <td>Comedies</td>\n",
       "    </tr>\n",
       "  </tbody>\n",
       "</table>\n",
       "</div>"
      ],
      "text/plain": [
       "                                     title  \\\n",
       "0  Norm of the North: King Sized Adventure   \n",
       "1               Jandino: Whatever it Takes   \n",
       "2                       Transformers Prime   \n",
       "3         Transformers: Robots in Disguise   \n",
       "4                             #realityhigh   \n",
       "\n",
       "                                         description     type  \\\n",
       "0  Before planning an awesome wedding for his gra...    Movie   \n",
       "1  Jandino Asporaat riffs on the challenges of ra...    Movie   \n",
       "2  With the help of three human allies, the Autob...  TV Show   \n",
       "3  When a prison ship crash unleashes hundreds of...  TV Show   \n",
       "4  When nerdy high schooler Dani finally attracts...    Movie   \n",
       "\n",
       "                            listed_in  \n",
       "0  Children & Family Movies, Comedies  \n",
       "1                     Stand-Up Comedy  \n",
       "2                            Kids' TV  \n",
       "3                            Kids' TV  \n",
       "4                            Comedies  "
      ]
     },
     "execution_count": 22,
     "metadata": {},
     "output_type": "execute_result"
    }
   ],
   "source": [
    "data = df[[\"title\", \"description\", \"type\", \"listed_in\"]]\n",
    "data.head() "
   ]
  },
  {
   "cell_type": "markdown",
   "id": "0ca19185",
   "metadata": {},
   "source": [
    "__As the title indicates:__\n",
    "\n",
    "- Netflix titles for movies and TV series are listed in the title column.\n",
    "- The TV series and movies' stories are described in the description column.\n",
    "- We can detect if it's a movie or a TV show from the Content Type field.\n",
    "- All of the TV show and movie genres are listed in the Genre column."
   ]
  },
  {
   "cell_type": "markdown",
   "id": "b4ce93b2",
   "metadata": {},
   "source": [
    "__Now let’s check if there are any missing values :__"
   ]
  },
  {
   "cell_type": "code",
   "execution_count": 11,
   "id": "fe838a12",
   "metadata": {},
   "outputs": [
    {
     "data": {
      "text/plain": [
       "title          0\n",
       "description    0\n",
       "type           0\n",
       "listed_in      0\n",
       "dtype: int64"
      ]
     },
     "execution_count": 11,
     "metadata": {},
     "output_type": "execute_result"
    }
   ],
   "source": [
    "data.isnull().sum() #checking null values"
   ]
  },
  {
   "cell_type": "markdown",
   "id": "14da7918",
   "metadata": {},
   "source": [
    "__We can observe we don't have any null values in the features we are going to consider.__"
   ]
  },
  {
   "cell_type": "markdown",
   "id": "1c1784dc",
   "metadata": {},
   "source": [
    "Let's check some sample of the titles"
   ]
  },
  {
   "cell_type": "code",
   "execution_count": 37,
   "id": "e42725d8",
   "metadata": {},
   "outputs": [
    {
     "name": "stdout",
     "output_type": "stream",
     "text": [
      "3586    The Original Kings of Comedy\n",
      "4109                         Shikari\n",
      "3074                        Scream 3\n",
      "1717                     It's Bruno!\n",
      "4797      The Laws of Thermodynamics\n",
      "1793                 The Jungle Book\n",
      "1924                       Apollo 18\n",
      "2670                   Savage Raghda\n",
      "5358                        Lunatics\n",
      "2317       The Spiderwick Chronicles\n",
      "Name: title, dtype: object\n"
     ]
    }
   ],
   "source": [
    "print(data.title.sample(10)) "
   ]
  },
  {
   "cell_type": "markdown",
   "id": "6ae08438",
   "metadata": {},
   "source": [
    "# <font color='grey'><center> III.Building the recommendation system"
   ]
  },
  {
   "cell_type": "markdown",
   "id": "17f0e17e",
   "metadata": {},
   "source": [
    "Now I will use the Genres column as the feature to recommend similar content to the user.\n",
    "Cosine similarity is a method used in building machine learning applications such as recommender systems. It is a technique to find the similarities between the two documents"
   ]
  },
  {
   "cell_type": "markdown",
   "id": "abc5792d",
   "metadata": {},
   "source": [
    "# <font color ='Firebrick'>Recommendation based on similar Genre"
   ]
  },
  {
   "cell_type": "code",
   "execution_count": 38,
   "id": "00cc799b",
   "metadata": {},
   "outputs": [],
   "source": [
    "from sklearn.feature_extraction import text\n",
    "from sklearn.metrics.pairwise import cosine_similarity"
   ]
  },
  {
   "cell_type": "code",
   "execution_count": 39,
   "id": "c5c8fd6d",
   "metadata": {},
   "outputs": [],
   "source": [
    "feature = data[\"listed_in\"].tolist()\n",
    "tfidf = text.TfidfVectorizer(input=feature, stop_words=\"english\")\n",
    "tfidf_matrix = tfidf.fit_transform(feature)\n",
    "similarity = cosine_similarity(tfidf_matrix)"
   ]
  },
  {
   "cell_type": "markdown",
   "id": "83332d83",
   "metadata": {},
   "source": [
    "__Now Let's set the Title column as an index so that we can find similar content by giving the title of the movie or TV show as an input:__\n",
    "\n"
   ]
  },
  {
   "cell_type": "code",
   "execution_count": 40,
   "id": "3741fe6d",
   "metadata": {},
   "outputs": [],
   "source": [
    "indices = pd.Series(data.index, index=data['title']).drop_duplicates()"
   ]
  },
  {
   "cell_type": "markdown",
   "id": "c64c7292",
   "metadata": {},
   "source": [
    "__User defined function to recommend Movies and TV shows on Netflix:__"
   ]
  },
  {
   "cell_type": "code",
   "execution_count": 89,
   "id": "2dd5823d",
   "metadata": {},
   "outputs": [],
   "source": [
    "def recommend(title, similarity = similarity):\n",
    "    index = indices[title]\n",
    "    similarity_scores = list(enumerate(similarity[index]))\n",
    "    similarity_scores = sorted(similarity_scores, key=lambda x: x[1], reverse=True)\n",
    "    similarity_scores = similarity_scores[0:10]\n",
    "    movieindices = [i[0] for i in similarity_scores]\n",
    "    rec = list(data['title'].iloc[movieindices])\n",
    "    for m in rec:\n",
    "        print('➤',m)\n",
    "    return ''"
   ]
  },
  {
   "cell_type": "code",
   "execution_count": 98,
   "id": "9d35c4dc",
   "metadata": {},
   "outputs": [],
   "source": [
    "def user_input():\n",
    "    choice = input('Enter the Tv show or movie name: ')\n",
    "    print('\\n \\033[1;31mHere are the top 10 recommendations, If you watched this',choice,':\\033[0m\\n')\n",
    "    print('\\n',recommend(choice))    "
   ]
  },
  {
   "cell_type": "code",
   "execution_count": 99,
   "id": "7e8938db",
   "metadata": {},
   "outputs": [
    {
     "name": "stdout",
     "output_type": "stream",
     "text": [
      "Enter the Tv show or movie name: Narcos\n",
      "\n",
      " \u001b[1;31mHere are the top 10 recommendations, If you watched this Narcos :\u001b[0m\n",
      "\n",
      "➤ Narcos: Mexico\n",
      "➤ Altered Carbon\n",
      "➤ Marvel's The Defenders\n",
      "➤ Marvel's Iron Fist\n",
      "➤ Gotham\n",
      "➤ Person of Interest\n",
      "➤ Narcos\n",
      "➤ Queen of the South\n",
      "➤ Marvel's Luke Cage\n",
      "➤ Shooter\n",
      "\n",
      " \n"
     ]
    }
   ],
   "source": [
    "user_input()"
   ]
  },
  {
   "cell_type": "code",
   "execution_count": 100,
   "id": "329de696",
   "metadata": {},
   "outputs": [
    {
     "name": "stdout",
     "output_type": "stream",
     "text": [
      "Enter the Tv show or movie name: Stranger Things\n",
      "\n",
      " \u001b[1;31mHere are the top 10 recommendations, If you watched this Stranger Things :\u001b[0m\n",
      "\n",
      "➤ Helix\n",
      "➤ Nightflyers\n",
      "➤ Stranger Things\n",
      "➤ Chilling Adventures of Sabrina\n",
      "➤ The Messengers\n",
      "➤ The Vampire Diaries\n",
      "➤ The 4400\n",
      "➤ Zoo\n",
      "➤ The OA\n",
      "➤ Sense8\n",
      "\n",
      " \n"
     ]
    }
   ],
   "source": [
    "user_input()"
   ]
  },
  {
   "cell_type": "code",
   "execution_count": 101,
   "id": "20166cc8",
   "metadata": {},
   "outputs": [
    {
     "name": "stdout",
     "output_type": "stream",
     "text": [
      "Enter the Tv show or movie name: Sanju\n",
      "\n",
      " \u001b[1;31mHere are the top 10 recommendations, If you watched this Sanju :\u001b[0m\n",
      "\n",
      "➤ The Mayor\n",
      "➤ TUNA GIRL\n",
      "➤ 5CM\n",
      "➤ King of Boys\n",
      "➤ Sarah's Key\n",
      "➤ Mad World\n",
      "➤ Miss Julie\n",
      "➤ Cardboard Gangsters\n",
      "➤ Gie\n",
      "➤ ​Maj Rati ​​Keteki\n",
      "\n",
      " \n"
     ]
    }
   ],
   "source": [
    "user_input()"
   ]
  },
  {
   "cell_type": "code",
   "execution_count": 102,
   "id": "fcaa8318",
   "metadata": {},
   "outputs": [
    {
     "name": "stdout",
     "output_type": "stream",
     "text": [
      "Enter the Tv show or movie name: Breaking Bad\n",
      "\n",
      " \u001b[1;31mHere are the top 10 recommendations, If you watched this Breaking Bad :\u001b[0m\n",
      "\n",
      "➤ The Assassination of Gianni Versace\n",
      "➤ The Lizzie Borden Chronicles\n",
      "➤ The Blacklist\n",
      "➤ Designated Survivor\n",
      "➤ Ozark\n",
      "➤ Breaking Bad\n",
      "➤ Unbelievable\n",
      "➤ Damnation\n",
      "➤ When They See Us\n",
      "➤ American Crime Story: The People v. O.J. Simpson\n",
      "\n",
      " \n"
     ]
    }
   ],
   "source": [
    "user_input()"
   ]
  },
  {
   "cell_type": "markdown",
   "id": "9cb11239",
   "metadata": {},
   "source": [
    "# <div class=\"alert alert-danger\"><center>END</div>"
   ]
  }
 ],
 "metadata": {
  "kernelspec": {
   "display_name": "Python 3 (ipykernel)",
   "language": "python",
   "name": "python3"
  },
  "language_info": {
   "codemirror_mode": {
    "name": "ipython",
    "version": 3
   },
   "file_extension": ".py",
   "mimetype": "text/x-python",
   "name": "python",
   "nbconvert_exporter": "python",
   "pygments_lexer": "ipython3",
   "version": "3.9.12"
  }
 },
 "nbformat": 4,
 "nbformat_minor": 5
}
